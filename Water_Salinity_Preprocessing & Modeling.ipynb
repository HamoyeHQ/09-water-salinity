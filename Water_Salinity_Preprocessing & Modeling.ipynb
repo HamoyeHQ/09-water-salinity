{
 "cells": [
  {
   "cell_type": "code",
   "execution_count": 1,
   "metadata": {},
   "outputs": [],
   "source": [
    "# importing important libraries\n",
    "\n",
    "import pandas as pd\n",
    "import seaborn as sns\n",
    "import matplotlib.pyplot as plt\n",
    "from sklearn.preprocessing import MinMaxScaler\n",
    "from sklearn.model_selection import train_test_split\n",
    "from sklearn.linear_model import LinearRegression\n",
    "from sklearn.metrics import r2_score\n",
    "from sklearn.metrics import mean_absolute_error\n",
    "from sklearn.tree import DecisionTreeRegressor\n",
    "from sklearn.model_selection import cross_val_score, cross_val_predict"
   ]
  },
  {
   "cell_type": "code",
   "execution_count": 2,
   "metadata": {},
   "outputs": [
    {
     "name": "stderr",
     "output_type": "stream",
     "text": [
      "C:\\Users\\Administrator\\anaconda3\\lib\\site-packages\\IPython\\core\\interactiveshell.py:3063: DtypeWarning: Columns (74) have mixed types.Specify dtype option on import or set low_memory=False.\n",
      "  interactivity=interactivity, compiler=compiler, result=result)\n"
     ]
    },
    {
     "data": {
      "text/html": [
       "<div>\n",
       "<style scoped>\n",
       "    .dataframe tbody tr th:only-of-type {\n",
       "        vertical-align: middle;\n",
       "    }\n",
       "\n",
       "    .dataframe tbody tr th {\n",
       "        vertical-align: top;\n",
       "    }\n",
       "\n",
       "    .dataframe thead th {\n",
       "        text-align: right;\n",
       "    }\n",
       "</style>\n",
       "<table border=\"1\" class=\"dataframe\">\n",
       "  <thead>\n",
       "    <tr style=\"text-align: right;\">\n",
       "      <th></th>\n",
       "      <th>Unnamed: 0</th>\n",
       "      <th>Cst_Cnt</th>\n",
       "      <th>Btl_Cnt</th>\n",
       "      <th>Sta_ID</th>\n",
       "      <th>Depth_ID</th>\n",
       "      <th>Depthm</th>\n",
       "      <th>T_degC</th>\n",
       "      <th>Salnty</th>\n",
       "      <th>O2ml_L</th>\n",
       "      <th>STheta</th>\n",
       "      <th>...</th>\n",
       "      <th>R_PHAEO</th>\n",
       "      <th>R_PRES</th>\n",
       "      <th>R_SAMP</th>\n",
       "      <th>DIC1</th>\n",
       "      <th>DIC2</th>\n",
       "      <th>TA1</th>\n",
       "      <th>TA2</th>\n",
       "      <th>pH2</th>\n",
       "      <th>pH1</th>\n",
       "      <th>DIC Quality Comment</th>\n",
       "    </tr>\n",
       "  </thead>\n",
       "  <tbody>\n",
       "    <tr>\n",
       "      <th>0</th>\n",
       "      <td>792850</td>\n",
       "      <td>31635</td>\n",
       "      <td>792851</td>\n",
       "      <td>080.0 070.0</td>\n",
       "      <td>20-0801JD-MX-023-0740-08000700-0002A-3</td>\n",
       "      <td>2</td>\n",
       "      <td>12.07</td>\n",
       "      <td>32.919</td>\n",
       "      <td>6.31</td>\n",
       "      <td>24.961</td>\n",
       "      <td>...</td>\n",
       "      <td>0.25</td>\n",
       "      <td>2</td>\n",
       "      <td>220.0</td>\n",
       "      <td>NaN</td>\n",
       "      <td>NaN</td>\n",
       "      <td>NaN</td>\n",
       "      <td>NaN</td>\n",
       "      <td>NaN</td>\n",
       "      <td>NaN</td>\n",
       "      <td>NaN</td>\n",
       "    </tr>\n",
       "    <tr>\n",
       "      <th>1</th>\n",
       "      <td>421617</td>\n",
       "      <td>16184</td>\n",
       "      <td>421618</td>\n",
       "      <td>110.0 035.0</td>\n",
       "      <td>19-6904AX-HY-100-0007-11000350-0030A-7</td>\n",
       "      <td>30</td>\n",
       "      <td>13.16</td>\n",
       "      <td>NaN</td>\n",
       "      <td>5.92</td>\n",
       "      <td>NaN</td>\n",
       "      <td>...</td>\n",
       "      <td>NaN</td>\n",
       "      <td>30</td>\n",
       "      <td>NaN</td>\n",
       "      <td>NaN</td>\n",
       "      <td>NaN</td>\n",
       "      <td>NaN</td>\n",
       "      <td>NaN</td>\n",
       "      <td>NaN</td>\n",
       "      <td>NaN</td>\n",
       "      <td>NaN</td>\n",
       "    </tr>\n",
       "    <tr>\n",
       "      <th>2</th>\n",
       "      <td>614405</td>\n",
       "      <td>25103</td>\n",
       "      <td>614406</td>\n",
       "      <td>057.5 061.0</td>\n",
       "      <td>19-8705NM-10-140-0033-05750610-0011A-3</td>\n",
       "      <td>11</td>\n",
       "      <td>11.26</td>\n",
       "      <td>33.469</td>\n",
       "      <td>5.75</td>\n",
       "      <td>25.537</td>\n",
       "      <td>...</td>\n",
       "      <td>0.25</td>\n",
       "      <td>11</td>\n",
       "      <td>NaN</td>\n",
       "      <td>NaN</td>\n",
       "      <td>NaN</td>\n",
       "      <td>NaN</td>\n",
       "      <td>NaN</td>\n",
       "      <td>NaN</td>\n",
       "      <td>NaN</td>\n",
       "      <td>NaN</td>\n",
       "    </tr>\n",
       "  </tbody>\n",
       "</table>\n",
       "<p>3 rows × 75 columns</p>\n",
       "</div>"
      ],
      "text/plain": [
       "   Unnamed: 0  Cst_Cnt  Btl_Cnt       Sta_ID  \\\n",
       "0      792850    31635   792851  080.0 070.0   \n",
       "1      421617    16184   421618  110.0 035.0   \n",
       "2      614405    25103   614406  057.5 061.0   \n",
       "\n",
       "                                 Depth_ID  Depthm  T_degC  Salnty  O2ml_L  \\\n",
       "0  20-0801JD-MX-023-0740-08000700-0002A-3       2   12.07  32.919    6.31   \n",
       "1  19-6904AX-HY-100-0007-11000350-0030A-7      30   13.16     NaN    5.92   \n",
       "2  19-8705NM-10-140-0033-05750610-0011A-3      11   11.26  33.469    5.75   \n",
       "\n",
       "   STheta  ...  R_PHAEO  R_PRES  R_SAMP  DIC1  DIC2  TA1  TA2  pH2  pH1  \\\n",
       "0  24.961  ...     0.25       2   220.0   NaN   NaN  NaN  NaN  NaN  NaN   \n",
       "1     NaN  ...      NaN      30     NaN   NaN   NaN  NaN  NaN  NaN  NaN   \n",
       "2  25.537  ...     0.25      11     NaN   NaN   NaN  NaN  NaN  NaN  NaN   \n",
       "\n",
       "   DIC Quality Comment  \n",
       "0                  NaN  \n",
       "1                  NaN  \n",
       "2                  NaN  \n",
       "\n",
       "[3 rows x 75 columns]"
      ]
     },
     "execution_count": 2,
     "metadata": {},
     "output_type": "execute_result"
    }
   ],
   "source": [
    "# Note: 50% of the original dataset were randomly selected for analysis. view the Cst_Cnt field to see the randomness\n",
    "\n",
    "raw_bottle= pd.read_csv('calcofi_sample.csv')\n",
    "raw_bottle.head(3)"
   ]
  },
  {
   "cell_type": "markdown",
   "metadata": {},
   "source": [
    "#### Preprocessing the data"
   ]
  },
  {
   "cell_type": "code",
   "execution_count": 3,
   "metadata": {},
   "outputs": [
    {
     "data": {
      "text/plain": [
       "Index(['Unnamed: 0', 'Cst_Cnt', 'Btl_Cnt', 'Sta_ID', 'Depth_ID', 'Depthm',\n",
       "       'T_degC', 'Salnty', 'O2ml_L', 'STheta', 'O2Sat', 'Oxy_µmol/Kg',\n",
       "       'BtlNum', 'RecInd', 'T_prec', 'T_qual', 'S_prec', 'S_qual', 'P_qual',\n",
       "       'O_qual', 'SThtaq', 'O2Satq', 'ChlorA', 'Chlqua', 'Phaeop', 'Phaqua',\n",
       "       'PO4uM', 'PO4q', 'SiO3uM', 'SiO3qu', 'NO2uM', 'NO2q', 'NO3uM', 'NO3q',\n",
       "       'NH3uM', 'NH3q', 'C14As1', 'C14A1p', 'C14A1q', 'C14As2', 'C14A2p',\n",
       "       'C14A2q', 'DarkAs', 'DarkAp', 'DarkAq', 'MeanAs', 'MeanAp', 'MeanAq',\n",
       "       'IncTim', 'LightP', 'R_Depth', 'R_TEMP', 'R_POTEMP', 'R_SALINITY',\n",
       "       'R_SIGMA', 'R_SVA', 'R_DYNHT', 'R_O2', 'R_O2Sat', 'R_SIO3', 'R_PO4',\n",
       "       'R_NO3', 'R_NO2', 'R_NH4', 'R_CHLA', 'R_PHAEO', 'R_PRES', 'R_SAMP',\n",
       "       'DIC1', 'DIC2', 'TA1', 'TA2', 'pH2', 'pH1', 'DIC Quality Comment'],\n",
       "      dtype='object')"
      ]
     },
     "execution_count": 3,
     "metadata": {},
     "output_type": "execute_result"
    }
   ],
   "source": [
    "# displaying columns for feature engineering\n",
    "\n",
    "raw_bottle.columns"
   ]
  },
  {
   "cell_type": "code",
   "execution_count": 4,
   "metadata": {},
   "outputs": [
    {
     "data": {
      "text/html": [
       "<div>\n",
       "<style scoped>\n",
       "    .dataframe tbody tr th:only-of-type {\n",
       "        vertical-align: middle;\n",
       "    }\n",
       "\n",
       "    .dataframe tbody tr th {\n",
       "        vertical-align: top;\n",
       "    }\n",
       "\n",
       "    .dataframe thead th {\n",
       "        text-align: right;\n",
       "    }\n",
       "</style>\n",
       "<table border=\"1\" class=\"dataframe\">\n",
       "  <thead>\n",
       "    <tr style=\"text-align: right;\">\n",
       "      <th></th>\n",
       "      <th>T_degC</th>\n",
       "      <th>Depthm</th>\n",
       "      <th>Salnty</th>\n",
       "      <th>O2ml_L</th>\n",
       "      <th>STheta</th>\n",
       "      <th>O2Sat</th>\n",
       "      <th>PO4uM</th>\n",
       "      <th>SiO3uM</th>\n",
       "      <th>NO2uM</th>\n",
       "      <th>NO3uM</th>\n",
       "      <th>NH3uM</th>\n",
       "      <th>ChlorA</th>\n",
       "      <th>Phaeop</th>\n",
       "      <th>LightP</th>\n",
       "      <th>R_SIGMA</th>\n",
       "      <th>R_SVA</th>\n",
       "      <th>R_DYNHT</th>\n",
       "      <th>R_PRES</th>\n",
       "    </tr>\n",
       "  </thead>\n",
       "  <tbody>\n",
       "    <tr>\n",
       "      <th>0</th>\n",
       "      <td>12.07</td>\n",
       "      <td>2</td>\n",
       "      <td>32.919</td>\n",
       "      <td>6.31</td>\n",
       "      <td>24.961</td>\n",
       "      <td>103.1</td>\n",
       "      <td>0.49</td>\n",
       "      <td>4.6</td>\n",
       "      <td>0.08</td>\n",
       "      <td>2.3</td>\n",
       "      <td>0.0</td>\n",
       "      <td>0.85</td>\n",
       "      <td>0.25</td>\n",
       "      <td>NaN</td>\n",
       "      <td>24.961</td>\n",
       "      <td>298.6</td>\n",
       "      <td>0.006</td>\n",
       "      <td>2</td>\n",
       "    </tr>\n",
       "    <tr>\n",
       "      <th>1</th>\n",
       "      <td>13.16</td>\n",
       "      <td>30</td>\n",
       "      <td>NaN</td>\n",
       "      <td>5.92</td>\n",
       "      <td>NaN</td>\n",
       "      <td>NaN</td>\n",
       "      <td>0.76</td>\n",
       "      <td>4.8</td>\n",
       "      <td>NaN</td>\n",
       "      <td>1.7</td>\n",
       "      <td>NaN</td>\n",
       "      <td>NaN</td>\n",
       "      <td>NaN</td>\n",
       "      <td>NaN</td>\n",
       "      <td>NaN</td>\n",
       "      <td>NaN</td>\n",
       "      <td>0.080</td>\n",
       "      <td>30</td>\n",
       "    </tr>\n",
       "    <tr>\n",
       "      <th>2</th>\n",
       "      <td>11.26</td>\n",
       "      <td>11</td>\n",
       "      <td>33.469</td>\n",
       "      <td>5.75</td>\n",
       "      <td>25.537</td>\n",
       "      <td>92.6</td>\n",
       "      <td>1.22</td>\n",
       "      <td>15.7</td>\n",
       "      <td>0.29</td>\n",
       "      <td>12.7</td>\n",
       "      <td>NaN</td>\n",
       "      <td>0.92</td>\n",
       "      <td>0.25</td>\n",
       "      <td>NaN</td>\n",
       "      <td>25.530</td>\n",
       "      <td>243.9</td>\n",
       "      <td>0.020</td>\n",
       "      <td>11</td>\n",
       "    </tr>\n",
       "  </tbody>\n",
       "</table>\n",
       "</div>"
      ],
      "text/plain": [
       "   T_degC  Depthm  Salnty  O2ml_L  STheta  O2Sat  PO4uM  SiO3uM  NO2uM  NO3uM  \\\n",
       "0   12.07       2  32.919    6.31  24.961  103.1   0.49     4.6   0.08    2.3   \n",
       "1   13.16      30     NaN    5.92     NaN    NaN   0.76     4.8    NaN    1.7   \n",
       "2   11.26      11  33.469    5.75  25.537   92.6   1.22    15.7   0.29   12.7   \n",
       "\n",
       "   NH3uM  ChlorA  Phaeop  LightP  R_SIGMA  R_SVA  R_DYNHT  R_PRES  \n",
       "0    0.0    0.85    0.25     NaN   24.961  298.6    0.006       2  \n",
       "1    NaN     NaN     NaN     NaN      NaN    NaN    0.080      30  \n",
       "2    NaN    0.92    0.25     NaN   25.530  243.9    0.020      11  "
      ]
     },
     "execution_count": 4,
     "metadata": {},
     "output_type": "execute_result"
    }
   ],
   "source": [
    "# selecting the relevant features. Features dropped ranged from categorical varibles (having no relevant info to the prediction\n",
    "# of salinity) to reported data like R_Depth and its likes (e.g: Depthm== R_Depth)\n",
    "\n",
    "new_bottle= raw_bottle[['T_degC', 'Depthm', 'Salnty', 'O2ml_L', 'STheta', 'O2Sat', 'PO4uM', 'SiO3uM', 'NO2uM', 'NO3uM', 'NH3uM',\n",
    "             'ChlorA', 'Phaeop', 'LightP', 'R_SIGMA', 'R_SVA', 'R_DYNHT', 'R_PRES']]\n",
    "new_bottle.head(3)"
   ]
  },
  {
   "cell_type": "code",
   "execution_count": 5,
   "metadata": {},
   "outputs": [
    {
     "data": {
      "text/plain": [
       "(400000, 18)"
      ]
     },
     "execution_count": 5,
     "metadata": {},
     "output_type": "execute_result"
    }
   ],
   "source": [
    "# shape of new_dataset (18 columns selected from 74)\n",
    "\n",
    "new_bottle.shape"
   ]
  },
  {
   "cell_type": "code",
   "execution_count": 6,
   "metadata": {},
   "outputs": [
    {
     "data": {
      "text/plain": [
       "T_degC       5078\n",
       "Depthm          0\n",
       "Salnty      21902\n",
       "O2ml_L      77815\n",
       "STheta      24357\n",
       "O2Sat       93971\n",
       "PO4uM      208822\n",
       "SiO3uM     236184\n",
       "NO2uM      243742\n",
       "NO3uM      243846\n",
       "NH3uM      370108\n",
       "ChlorA     295731\n",
       "Phaeop     295728\n",
       "LightP     391351\n",
       "R_SIGMA     24445\n",
       "R_SVA       24410\n",
       "R_DYNHT     21620\n",
       "R_PRES          0\n",
       "dtype: int64"
      ]
     },
     "execution_count": 6,
     "metadata": {},
     "output_type": "execute_result"
    }
   ],
   "source": [
    "# check for missing values. \n",
    "\n",
    "new_bottle.isnull().sum()"
   ]
  },
  {
   "cell_type": "code",
   "execution_count": 7,
   "metadata": {},
   "outputs": [
    {
     "name": "stderr",
     "output_type": "stream",
     "text": [
      "C:\\Users\\Administrator\\anaconda3\\lib\\site-packages\\pandas\\core\\frame.py:2963: SettingWithCopyWarning: \n",
      "A value is trying to be set on a copy of a slice from a DataFrame.\n",
      "Try using .loc[row_indexer,col_indexer] = value instead\n",
      "\n",
      "See the caveats in the documentation: https://pandas.pydata.org/pandas-docs/stable/user_guide/indexing.html#returning-a-view-versus-a-copy\n",
      "  self[k1] = value[k2]\n"
     ]
    }
   ],
   "source": [
    "# replacing the missing values with the mean of the observed variables. Apart from Depthm and R_PRES, others have missing values\n",
    "\n",
    "cols= ['T_degC', 'Depthm', 'Salnty', 'O2ml_L', 'STheta', 'O2Sat', 'PO4uM', 'SiO3uM', 'NO2uM', 'NO3uM', 'NH3uM',\n",
    "             'ChlorA', 'Phaeop', 'LightP', 'R_SIGMA', 'R_SVA', 'R_DYNHT', 'R_PRES']\n",
    "\n",
    "new_bottle[cols]= new_bottle[cols].fillna(new_bottle.mean())"
   ]
  },
  {
   "cell_type": "code",
   "execution_count": 8,
   "metadata": {},
   "outputs": [
    {
     "data": {
      "text/plain": [
       "T_degC     0\n",
       "Depthm     0\n",
       "Salnty     0\n",
       "O2ml_L     0\n",
       "STheta     0\n",
       "O2Sat      0\n",
       "PO4uM      0\n",
       "SiO3uM     0\n",
       "NO2uM      0\n",
       "NO3uM      0\n",
       "NH3uM      0\n",
       "ChlorA     0\n",
       "Phaeop     0\n",
       "LightP     0\n",
       "R_SIGMA    0\n",
       "R_SVA      0\n",
       "R_DYNHT    0\n",
       "R_PRES     0\n",
       "dtype: int64"
      ]
     },
     "execution_count": 8,
     "metadata": {},
     "output_type": "execute_result"
    }
   ],
   "source": [
    "# check for missing values\n",
    "\n",
    "new_bottle.isnull().sum()"
   ]
  },
  {
   "cell_type": "code",
   "execution_count": 9,
   "metadata": {},
   "outputs": [
    {
     "name": "stdout",
     "output_type": "stream",
     "text": [
      "(400000, 18)\n"
     ]
    },
    {
     "data": {
      "text/html": [
       "<div>\n",
       "<style scoped>\n",
       "    .dataframe tbody tr th:only-of-type {\n",
       "        vertical-align: middle;\n",
       "    }\n",
       "\n",
       "    .dataframe tbody tr th {\n",
       "        vertical-align: top;\n",
       "    }\n",
       "\n",
       "    .dataframe thead th {\n",
       "        text-align: right;\n",
       "    }\n",
       "</style>\n",
       "<table border=\"1\" class=\"dataframe\">\n",
       "  <thead>\n",
       "    <tr style=\"text-align: right;\">\n",
       "      <th></th>\n",
       "      <th>T_degC</th>\n",
       "      <th>Depthm</th>\n",
       "      <th>Salnty</th>\n",
       "      <th>O2ml_L</th>\n",
       "      <th>STheta</th>\n",
       "      <th>O2Sat</th>\n",
       "      <th>PO4uM</th>\n",
       "      <th>SiO3uM</th>\n",
       "      <th>NO2uM</th>\n",
       "      <th>NO3uM</th>\n",
       "      <th>NH3uM</th>\n",
       "      <th>ChlorA</th>\n",
       "      <th>Phaeop</th>\n",
       "      <th>LightP</th>\n",
       "      <th>R_SIGMA</th>\n",
       "      <th>R_SVA</th>\n",
       "      <th>R_DYNHT</th>\n",
       "      <th>R_PRES</th>\n",
       "    </tr>\n",
       "  </thead>\n",
       "  <tbody>\n",
       "    <tr>\n",
       "      <th>0</th>\n",
       "      <td>12.07</td>\n",
       "      <td>2</td>\n",
       "      <td>32.919000</td>\n",
       "      <td>6.310000</td>\n",
       "      <td>24.961000</td>\n",
       "      <td>103.100000</td>\n",
       "      <td>0.490000</td>\n",
       "      <td>4.600000</td>\n",
       "      <td>0.08000</td>\n",
       "      <td>2.300000</td>\n",
       "      <td>0.000000</td>\n",
       "      <td>0.850000</td>\n",
       "      <td>0.250000</td>\n",
       "      <td>18.637732</td>\n",
       "      <td>24.961000</td>\n",
       "      <td>298.600000</td>\n",
       "      <td>0.006</td>\n",
       "      <td>2</td>\n",
       "    </tr>\n",
       "    <tr>\n",
       "      <th>1</th>\n",
       "      <td>13.16</td>\n",
       "      <td>30</td>\n",
       "      <td>33.839786</td>\n",
       "      <td>5.920000</td>\n",
       "      <td>25.818542</td>\n",
       "      <td>57.136832</td>\n",
       "      <td>0.760000</td>\n",
       "      <td>4.800000</td>\n",
       "      <td>0.04245</td>\n",
       "      <td>1.700000</td>\n",
       "      <td>0.083992</td>\n",
       "      <td>0.446564</td>\n",
       "      <td>0.198739</td>\n",
       "      <td>18.637732</td>\n",
       "      <td>25.810664</td>\n",
       "      <td>221.031633</td>\n",
       "      <td>0.080</td>\n",
       "      <td>30</td>\n",
       "    </tr>\n",
       "    <tr>\n",
       "      <th>2</th>\n",
       "      <td>11.26</td>\n",
       "      <td>11</td>\n",
       "      <td>33.469000</td>\n",
       "      <td>5.750000</td>\n",
       "      <td>25.537000</td>\n",
       "      <td>92.600000</td>\n",
       "      <td>1.220000</td>\n",
       "      <td>15.700000</td>\n",
       "      <td>0.29000</td>\n",
       "      <td>12.700000</td>\n",
       "      <td>0.083992</td>\n",
       "      <td>0.920000</td>\n",
       "      <td>0.250000</td>\n",
       "      <td>18.637732</td>\n",
       "      <td>25.530000</td>\n",
       "      <td>243.900000</td>\n",
       "      <td>0.020</td>\n",
       "      <td>11</td>\n",
       "    </tr>\n",
       "    <tr>\n",
       "      <th>3</th>\n",
       "      <td>8.27</td>\n",
       "      <td>200</td>\n",
       "      <td>34.118000</td>\n",
       "      <td>1.850000</td>\n",
       "      <td>26.544000</td>\n",
       "      <td>28.000000</td>\n",
       "      <td>2.360000</td>\n",
       "      <td>42.800000</td>\n",
       "      <td>0.01000</td>\n",
       "      <td>30.600000</td>\n",
       "      <td>0.083992</td>\n",
       "      <td>0.010000</td>\n",
       "      <td>0.020000</td>\n",
       "      <td>18.637732</td>\n",
       "      <td>26.540000</td>\n",
       "      <td>151.800000</td>\n",
       "      <td>0.430</td>\n",
       "      <td>201</td>\n",
       "    </tr>\n",
       "    <tr>\n",
       "      <th>4</th>\n",
       "      <td>5.21</td>\n",
       "      <td>700</td>\n",
       "      <td>34.420000</td>\n",
       "      <td>0.330000</td>\n",
       "      <td>27.198000</td>\n",
       "      <td>4.700000</td>\n",
       "      <td>1.563237</td>\n",
       "      <td>26.579764</td>\n",
       "      <td>0.04245</td>\n",
       "      <td>17.289046</td>\n",
       "      <td>0.083992</td>\n",
       "      <td>0.446564</td>\n",
       "      <td>0.198739</td>\n",
       "      <td>18.637732</td>\n",
       "      <td>27.190000</td>\n",
       "      <td>94.800000</td>\n",
       "      <td>1.050</td>\n",
       "      <td>705</td>\n",
       "    </tr>\n",
       "    <tr>\n",
       "      <th>...</th>\n",
       "      <td>...</td>\n",
       "      <td>...</td>\n",
       "      <td>...</td>\n",
       "      <td>...</td>\n",
       "      <td>...</td>\n",
       "      <td>...</td>\n",
       "      <td>...</td>\n",
       "      <td>...</td>\n",
       "      <td>...</td>\n",
       "      <td>...</td>\n",
       "      <td>...</td>\n",
       "      <td>...</td>\n",
       "      <td>...</td>\n",
       "      <td>...</td>\n",
       "      <td>...</td>\n",
       "      <td>...</td>\n",
       "      <td>...</td>\n",
       "      <td>...</td>\n",
       "    </tr>\n",
       "    <tr>\n",
       "      <th>399995</th>\n",
       "      <td>12.60</td>\n",
       "      <td>99</td>\n",
       "      <td>32.970000</td>\n",
       "      <td>5.780000</td>\n",
       "      <td>24.902000</td>\n",
       "      <td>95.500000</td>\n",
       "      <td>1.563237</td>\n",
       "      <td>26.579764</td>\n",
       "      <td>0.04245</td>\n",
       "      <td>17.289046</td>\n",
       "      <td>0.083992</td>\n",
       "      <td>0.446564</td>\n",
       "      <td>0.198739</td>\n",
       "      <td>18.637732</td>\n",
       "      <td>24.900000</td>\n",
       "      <td>306.700000</td>\n",
       "      <td>0.380</td>\n",
       "      <td>99</td>\n",
       "    </tr>\n",
       "    <tr>\n",
       "      <th>399996</th>\n",
       "      <td>5.93</td>\n",
       "      <td>400</td>\n",
       "      <td>34.110000</td>\n",
       "      <td>0.980000</td>\n",
       "      <td>26.863000</td>\n",
       "      <td>14.000000</td>\n",
       "      <td>2.940000</td>\n",
       "      <td>71.600000</td>\n",
       "      <td>0.01000</td>\n",
       "      <td>39.100000</td>\n",
       "      <td>0.083992</td>\n",
       "      <td>0.446564</td>\n",
       "      <td>0.198739</td>\n",
       "      <td>18.637732</td>\n",
       "      <td>26.860000</td>\n",
       "      <td>123.300000</td>\n",
       "      <td>0.820</td>\n",
       "      <td>403</td>\n",
       "    </tr>\n",
       "    <tr>\n",
       "      <th>399997</th>\n",
       "      <td>19.04</td>\n",
       "      <td>0</td>\n",
       "      <td>33.420000</td>\n",
       "      <td>5.580000</td>\n",
       "      <td>23.805000</td>\n",
       "      <td>105.100000</td>\n",
       "      <td>1.563237</td>\n",
       "      <td>26.579764</td>\n",
       "      <td>0.04245</td>\n",
       "      <td>17.289046</td>\n",
       "      <td>0.083992</td>\n",
       "      <td>0.446564</td>\n",
       "      <td>0.198739</td>\n",
       "      <td>18.637732</td>\n",
       "      <td>23.800000</td>\n",
       "      <td>408.600000</td>\n",
       "      <td>0.000</td>\n",
       "      <td>0</td>\n",
       "    </tr>\n",
       "    <tr>\n",
       "      <th>399998</th>\n",
       "      <td>6.38</td>\n",
       "      <td>459</td>\n",
       "      <td>34.220000</td>\n",
       "      <td>0.450000</td>\n",
       "      <td>26.893000</td>\n",
       "      <td>6.500000</td>\n",
       "      <td>1.563237</td>\n",
       "      <td>26.579764</td>\n",
       "      <td>0.04245</td>\n",
       "      <td>17.289046</td>\n",
       "      <td>0.083992</td>\n",
       "      <td>0.446564</td>\n",
       "      <td>0.198739</td>\n",
       "      <td>18.637732</td>\n",
       "      <td>26.890000</td>\n",
       "      <td>121.800000</td>\n",
       "      <td>0.830</td>\n",
       "      <td>462</td>\n",
       "    </tr>\n",
       "    <tr>\n",
       "      <th>399999</th>\n",
       "      <td>14.66</td>\n",
       "      <td>30</td>\n",
       "      <td>33.480000</td>\n",
       "      <td>3.394158</td>\n",
       "      <td>24.875000</td>\n",
       "      <td>57.136832</td>\n",
       "      <td>1.563237</td>\n",
       "      <td>26.579764</td>\n",
       "      <td>0.04245</td>\n",
       "      <td>17.289046</td>\n",
       "      <td>0.083992</td>\n",
       "      <td>0.446564</td>\n",
       "      <td>0.198739</td>\n",
       "      <td>18.637732</td>\n",
       "      <td>24.870000</td>\n",
       "      <td>307.500000</td>\n",
       "      <td>0.090</td>\n",
       "      <td>30</td>\n",
       "    </tr>\n",
       "  </tbody>\n",
       "</table>\n",
       "<p>400000 rows × 18 columns</p>\n",
       "</div>"
      ],
      "text/plain": [
       "        T_degC  Depthm     Salnty    O2ml_L     STheta       O2Sat     PO4uM  \\\n",
       "0        12.07       2  32.919000  6.310000  24.961000  103.100000  0.490000   \n",
       "1        13.16      30  33.839786  5.920000  25.818542   57.136832  0.760000   \n",
       "2        11.26      11  33.469000  5.750000  25.537000   92.600000  1.220000   \n",
       "3         8.27     200  34.118000  1.850000  26.544000   28.000000  2.360000   \n",
       "4         5.21     700  34.420000  0.330000  27.198000    4.700000  1.563237   \n",
       "...        ...     ...        ...       ...        ...         ...       ...   \n",
       "399995   12.60      99  32.970000  5.780000  24.902000   95.500000  1.563237   \n",
       "399996    5.93     400  34.110000  0.980000  26.863000   14.000000  2.940000   \n",
       "399997   19.04       0  33.420000  5.580000  23.805000  105.100000  1.563237   \n",
       "399998    6.38     459  34.220000  0.450000  26.893000    6.500000  1.563237   \n",
       "399999   14.66      30  33.480000  3.394158  24.875000   57.136832  1.563237   \n",
       "\n",
       "           SiO3uM    NO2uM      NO3uM     NH3uM    ChlorA    Phaeop  \\\n",
       "0        4.600000  0.08000   2.300000  0.000000  0.850000  0.250000   \n",
       "1        4.800000  0.04245   1.700000  0.083992  0.446564  0.198739   \n",
       "2       15.700000  0.29000  12.700000  0.083992  0.920000  0.250000   \n",
       "3       42.800000  0.01000  30.600000  0.083992  0.010000  0.020000   \n",
       "4       26.579764  0.04245  17.289046  0.083992  0.446564  0.198739   \n",
       "...           ...      ...        ...       ...       ...       ...   \n",
       "399995  26.579764  0.04245  17.289046  0.083992  0.446564  0.198739   \n",
       "399996  71.600000  0.01000  39.100000  0.083992  0.446564  0.198739   \n",
       "399997  26.579764  0.04245  17.289046  0.083992  0.446564  0.198739   \n",
       "399998  26.579764  0.04245  17.289046  0.083992  0.446564  0.198739   \n",
       "399999  26.579764  0.04245  17.289046  0.083992  0.446564  0.198739   \n",
       "\n",
       "           LightP    R_SIGMA       R_SVA  R_DYNHT  R_PRES  \n",
       "0       18.637732  24.961000  298.600000    0.006       2  \n",
       "1       18.637732  25.810664  221.031633    0.080      30  \n",
       "2       18.637732  25.530000  243.900000    0.020      11  \n",
       "3       18.637732  26.540000  151.800000    0.430     201  \n",
       "4       18.637732  27.190000   94.800000    1.050     705  \n",
       "...           ...        ...         ...      ...     ...  \n",
       "399995  18.637732  24.900000  306.700000    0.380      99  \n",
       "399996  18.637732  26.860000  123.300000    0.820     403  \n",
       "399997  18.637732  23.800000  408.600000    0.000       0  \n",
       "399998  18.637732  26.890000  121.800000    0.830     462  \n",
       "399999  18.637732  24.870000  307.500000    0.090      30  \n",
       "\n",
       "[400000 rows x 18 columns]"
      ]
     },
     "execution_count": 9,
     "metadata": {},
     "output_type": "execute_result"
    }
   ],
   "source": [
    "print(new_bottle.shape)\n",
    "new_bottle"
   ]
  },
  {
   "cell_type": "code",
   "execution_count": 10,
   "metadata": {},
   "outputs": [
    {
     "name": "stderr",
     "output_type": "stream",
     "text": [
      "C:\\Users\\Administrator\\anaconda3\\lib\\site-packages\\ipykernel_launcher.py:5: UserWarning: To output multiple subplots, the figure containing the passed axes is being cleared\n",
      "  \"\"\"\n"
     ]
    },
    {
     "data": {
      "image/png": "[encoded data removed]",
      "text/plain": [
       "<Figure size 576x576 with 20 Axes>"
      ]
     },
     "metadata": {
      "needs_background": "light"
     },
     "output_type": "display_data"
    }
   ],
   "source": [
    "# Data Visualization to check for normality\n",
    "\n",
    "fig = plt.figure(figsize = (8,8))\n",
    "ax = fig.gca()\n",
    "new_bottle.hist(ax = ax)\n",
    "plt.tight_layout()\n",
    "\n",
    "# There is some degree of normality within some features and the target variable (Salnty)\n",
    "# while some features showed signs of being otherwise. I will Proceed without fixing for now**"
   ]
  },
  {
   "cell_type": "markdown",
   "metadata": {},
   "source": [
    "#### Processing: Splitting and Normalization"
   ]
  },
  {
   "cell_type": "code",
   "execution_count": 11,
   "metadata": {},
   "outputs": [
    {
     "name": "stdout",
     "output_type": "stream",
     "text": [
      "X_train_shape: (320000, 17)\n",
      "y_train_shape: (320000,)\n",
      "X_test_shape: (80000, 17)\n",
      "y_test_shape: (80000,)\n"
     ]
    }
   ],
   "source": [
    "# Splitting datasets into train and test sets\n",
    "\n",
    "X= new_bottle[['T_degC', 'Depthm', 'O2ml_L', 'STheta', 'O2Sat', 'PO4uM', 'SiO3uM', 'NO2uM', 'NO3uM', 'NH3uM',\n",
    "             'ChlorA', 'Phaeop', 'LightP', 'R_SIGMA', 'R_SVA', 'R_DYNHT', 'R_PRES']]\n",
    "\n",
    "y= new_bottle['Salnty']\n",
    "\n",
    "X_train, X_test, y_train, y_test= train_test_split(X, y, test_size= 0.2, random_state= 1)\n",
    "\n",
    "print ('X_train_shape: {}'. format(X_train.shape))\n",
    "print ('y_train_shape: {}'. format(y_train.shape))\n",
    "print ('X_test_shape: {}'. format(X_test.shape))\n",
    "print ('y_test_shape: {}'. format(y_test.shape))"
   ]
  },
  {
   "cell_type": "code",
   "execution_count": 12,
   "metadata": {},
   "outputs": [
    {
     "data": {
      "text/plain": [
       "array([[0.33490725, 0.03872217, 0.53653654, ..., 0.33089312, 0.15104167,\n",
       "        0.03818389],\n",
       "       [0.31579835, 0.        , 0.65165165, ..., 0.32303314, 0.        ,\n",
       "        0.        ],\n",
       "       [0.24586847, 0.05227493, 0.19119119, ..., 0.24011713, 0.18229167,\n",
       "        0.05148176],\n",
       "       ...,\n",
       "       [0.22192243, 0.05208132, 0.14714715, ..., 0.21273792, 0.125     ,\n",
       "        0.05148176],\n",
       "       [0.45564924, 0.        , 0.55955956, ..., 0.51522694, 0.        ,\n",
       "        0.        ],\n",
       "       [0.08128162, 0.19361084, 0.34075658, ..., 0.11156662, 0.35416667,\n",
       "        0.19148936]])"
      ]
     },
     "execution_count": 12,
     "metadata": {},
     "output_type": "execute_result"
    }
   ],
   "source": [
    "# Normalizing X_train & X_test using MinMaxScaler\n",
    "\n",
    "scaler= MinMaxScaler()\n",
    "\n",
    "# fit_transforming X_train\n",
    "\n",
    "norm_X_train= scaler.fit_transform(X_train)\n",
    "norm_X_train"
   ]
  },
  {
   "cell_type": "code",
   "execution_count": 13,
   "metadata": {},
   "outputs": [
    {
     "data": {
      "text/plain": [
       "array([[0.90421585, 0.00968054, 0.27227227, ..., 0.79062958, 0.0703125 ,\n",
       "        0.00949848],\n",
       "       [0.25193929, 0.0338819 , 0.34075658, ..., 0.25578331, 0.12239583,\n",
       "        0.03343465],\n",
       "       [0.51568297, 0.01452081, 0.57057057, ..., 0.49136164, 0.06770833,\n",
       "        0.01424772],\n",
       "       ...,\n",
       "       [0.20337268, 0.08615682, 0.02502503, ..., 0.17452416, 0.1953125 ,\n",
       "        0.08510638],\n",
       "       [0.52580101, 0.00193611, 0.51351351, ..., 0.50849195, 0.0078125 ,\n",
       "        0.0018997 ],\n",
       "       [0.18819562, 0.07744434, 0.07807808, ..., 0.19238653, 0.1953125 ,\n",
       "        0.07655775]])"
      ]
     },
     "execution_count": 13,
     "metadata": {},
     "output_type": "execute_result"
    }
   ],
   "source": [
    "# Transforming X_test\n",
    "\n",
    "norm_X_test= scaler.transform(X_test)\n",
    "norm_X_test"
   ]
  },
  {
   "cell_type": "markdown",
   "metadata": {},
   "source": [
    "#### modeling"
   ]
  },
  {
   "cell_type": "code",
   "execution_count": 14,
   "metadata": {},
   "outputs": [
    {
     "data": {
      "text/plain": [
       "LinearRegression()"
      ]
     },
     "execution_count": 14,
     "metadata": {},
     "output_type": "execute_result"
    }
   ],
   "source": [
    "# Case1: using Linear Regression\n",
    "\n",
    "reg= LinearRegression()\n",
    "reg.fit(norm_X_train, y_train)"
   ]
  },
  {
   "cell_type": "code",
   "execution_count": 15,
   "metadata": {},
   "outputs": [
    {
     "data": {
      "text/html": [
       "<div>\n",
       "<style scoped>\n",
       "    .dataframe tbody tr th:only-of-type {\n",
       "        vertical-align: middle;\n",
       "    }\n",
       "\n",
       "    .dataframe tbody tr th {\n",
       "        vertical-align: top;\n",
       "    }\n",
       "\n",
       "    .dataframe thead th {\n",
       "        text-align: right;\n",
       "    }\n",
       "</style>\n",
       "<table border=\"1\" class=\"dataframe\">\n",
       "  <thead>\n",
       "    <tr style=\"text-align: right;\">\n",
       "      <th></th>\n",
       "      <th>Actual_1</th>\n",
       "      <th>Predicted_1</th>\n",
       "    </tr>\n",
       "  </thead>\n",
       "  <tbody>\n",
       "    <tr>\n",
       "      <th>164217</th>\n",
       "      <td>35.176</td>\n",
       "      <td>34.000772</td>\n",
       "    </tr>\n",
       "    <tr>\n",
       "      <th>136326</th>\n",
       "      <td>33.928</td>\n",
       "      <td>33.896727</td>\n",
       "    </tr>\n",
       "    <tr>\n",
       "      <th>139035</th>\n",
       "      <td>33.713</td>\n",
       "      <td>33.655129</td>\n",
       "    </tr>\n",
       "    <tr>\n",
       "      <th>184089</th>\n",
       "      <td>34.182</td>\n",
       "      <td>34.251219</td>\n",
       "    </tr>\n",
       "    <tr>\n",
       "      <th>49577</th>\n",
       "      <td>33.580</td>\n",
       "      <td>33.648607</td>\n",
       "    </tr>\n",
       "    <tr>\n",
       "      <th>...</th>\n",
       "      <td>...</td>\n",
       "      <td>...</td>\n",
       "    </tr>\n",
       "    <tr>\n",
       "      <th>356732</th>\n",
       "      <td>33.460</td>\n",
       "      <td>33.484910</td>\n",
       "    </tr>\n",
       "    <tr>\n",
       "      <th>298300</th>\n",
       "      <td>34.075</td>\n",
       "      <td>33.972909</td>\n",
       "    </tr>\n",
       "    <tr>\n",
       "      <th>342305</th>\n",
       "      <td>34.450</td>\n",
       "      <td>34.479735</td>\n",
       "    </tr>\n",
       "    <tr>\n",
       "      <th>246290</th>\n",
       "      <td>33.618</td>\n",
       "      <td>33.628199</td>\n",
       "    </tr>\n",
       "    <tr>\n",
       "      <th>259816</th>\n",
       "      <td>34.191</td>\n",
       "      <td>34.215015</td>\n",
       "    </tr>\n",
       "  </tbody>\n",
       "</table>\n",
       "<p>80000 rows × 2 columns</p>\n",
       "</div>"
      ],
      "text/plain": [
       "        Actual_1  Predicted_1\n",
       "164217    35.176    34.000772\n",
       "136326    33.928    33.896727\n",
       "139035    33.713    33.655129\n",
       "184089    34.182    34.251219\n",
       "49577     33.580    33.648607\n",
       "...          ...          ...\n",
       "356732    33.460    33.484910\n",
       "298300    34.075    33.972909\n",
       "342305    34.450    34.479735\n",
       "246290    33.618    33.628199\n",
       "259816    34.191    34.215015\n",
       "\n",
       "[80000 rows x 2 columns]"
      ]
     },
     "execution_count": 15,
     "metadata": {},
     "output_type": "execute_result"
    }
   ],
   "source": [
    "# prediction \n",
    "\n",
    "y_pred= reg.predict(norm_X_test)\n",
    "df1 = pd.DataFrame({'Actual_1': y_test, 'Predicted_1': y_pred})\n",
    "df1"
   ]
  },
  {
   "cell_type": "code",
   "execution_count": 16,
   "metadata": {},
   "outputs": [
    {
     "data": {
      "text/plain": [
       "0.878"
      ]
     },
     "execution_count": 16,
     "metadata": {},
     "output_type": "execute_result"
    }
   ],
   "source": [
    "# R-squared\n",
    "\n",
    "r2= r2_score(y_test, y_pred)\n",
    "round(r2, 3)"
   ]
  },
  {
   "cell_type": "code",
   "execution_count": 17,
   "metadata": {},
   "outputs": [
    {
     "data": {
      "text/plain": [
       "0.085"
      ]
     },
     "execution_count": 17,
     "metadata": {},
     "output_type": "execute_result"
    }
   ],
   "source": [
    "# MSE \n",
    "\n",
    "mse= mean_absolute_error(y_test, y_pred)\n",
    "round(mse, 3)"
   ]
  },
  {
   "cell_type": "code",
   "execution_count": null,
   "metadata": {},
   "outputs": [],
   "source": []
  },
  {
   "cell_type": "code",
   "execution_count": 18,
   "metadata": {},
   "outputs": [
    {
     "data": {
      "text/plain": [
       "DecisionTreeRegressor(max_depth=2)"
      ]
     },
     "execution_count": 18,
     "metadata": {},
     "output_type": "execute_result"
    }
   ],
   "source": [
    "# case 2: Using Decision Trees\n",
    "\n",
    "reg_dec= DecisionTreeRegressor(max_depth= 2)\n",
    "reg_dec.fit(norm_X_train, y_train)"
   ]
  },
  {
   "cell_type": "code",
   "execution_count": 19,
   "metadata": {},
   "outputs": [
    {
     "data": {
      "text/html": [
       "<div>\n",
       "<style scoped>\n",
       "    .dataframe tbody tr th:only-of-type {\n",
       "        vertical-align: middle;\n",
       "    }\n",
       "\n",
       "    .dataframe tbody tr th {\n",
       "        vertical-align: top;\n",
       "    }\n",
       "\n",
       "    .dataframe thead th {\n",
       "        text-align: right;\n",
       "    }\n",
       "</style>\n",
       "<table border=\"1\" class=\"dataframe\">\n",
       "  <thead>\n",
       "    <tr style=\"text-align: right;\">\n",
       "      <th></th>\n",
       "      <th>Actual_2</th>\n",
       "      <th>Predicted_2</th>\n",
       "    </tr>\n",
       "  </thead>\n",
       "  <tbody>\n",
       "    <tr>\n",
       "      <th>164217</th>\n",
       "      <td>35.176</td>\n",
       "      <td>33.662715</td>\n",
       "    </tr>\n",
       "    <tr>\n",
       "      <th>136326</th>\n",
       "      <td>33.928</td>\n",
       "      <td>34.089446</td>\n",
       "    </tr>\n",
       "    <tr>\n",
       "      <th>139035</th>\n",
       "      <td>33.713</td>\n",
       "      <td>33.363020</td>\n",
       "    </tr>\n",
       "    <tr>\n",
       "      <th>184089</th>\n",
       "      <td>34.182</td>\n",
       "      <td>34.322434</td>\n",
       "    </tr>\n",
       "    <tr>\n",
       "      <th>49577</th>\n",
       "      <td>33.580</td>\n",
       "      <td>33.662715</td>\n",
       "    </tr>\n",
       "    <tr>\n",
       "      <th>...</th>\n",
       "      <td>...</td>\n",
       "      <td>...</td>\n",
       "    </tr>\n",
       "    <tr>\n",
       "      <th>356732</th>\n",
       "      <td>33.460</td>\n",
       "      <td>33.662715</td>\n",
       "    </tr>\n",
       "    <tr>\n",
       "      <th>298300</th>\n",
       "      <td>34.075</td>\n",
       "      <td>34.322434</td>\n",
       "    </tr>\n",
       "    <tr>\n",
       "      <th>342305</th>\n",
       "      <td>34.450</td>\n",
       "      <td>34.322434</td>\n",
       "    </tr>\n",
       "    <tr>\n",
       "      <th>246290</th>\n",
       "      <td>33.618</td>\n",
       "      <td>33.662715</td>\n",
       "    </tr>\n",
       "    <tr>\n",
       "      <th>259816</th>\n",
       "      <td>34.191</td>\n",
       "      <td>34.322434</td>\n",
       "    </tr>\n",
       "  </tbody>\n",
       "</table>\n",
       "<p>80000 rows × 2 columns</p>\n",
       "</div>"
      ],
      "text/plain": [
       "        Actual_2  Predicted_2\n",
       "164217    35.176    33.662715\n",
       "136326    33.928    34.089446\n",
       "139035    33.713    33.363020\n",
       "184089    34.182    34.322434\n",
       "49577     33.580    33.662715\n",
       "...          ...          ...\n",
       "356732    33.460    33.662715\n",
       "298300    34.075    34.322434\n",
       "342305    34.450    34.322434\n",
       "246290    33.618    33.662715\n",
       "259816    34.191    34.322434\n",
       "\n",
       "[80000 rows x 2 columns]"
      ]
     },
     "execution_count": 19,
     "metadata": {},
     "output_type": "execute_result"
    }
   ],
   "source": [
    "# prediction \n",
    "\n",
    "y_pred2= reg_dec.predict(norm_X_test)\n",
    "df_dec = pd.DataFrame({'Actual_2': y_test, 'Predicted_2': y_pred2})\n",
    "df_dec"
   ]
  },
  {
   "cell_type": "code",
   "execution_count": 20,
   "metadata": {},
   "outputs": [
    {
     "data": {
      "text/plain": [
       "0.586"
      ]
     },
     "execution_count": 20,
     "metadata": {},
     "output_type": "execute_result"
    }
   ],
   "source": [
    "# R-squared\n",
    "\n",
    "r2= r2_score(y_test, y_pred2)\n",
    "round(r2, 3)"
   ]
  },
  {
   "cell_type": "code",
   "execution_count": 21,
   "metadata": {},
   "outputs": [
    {
     "data": {
      "text/plain": [
       "0.195"
      ]
     },
     "execution_count": 21,
     "metadata": {},
     "output_type": "execute_result"
    }
   ],
   "source": [
    "# MSE \n",
    "\n",
    "mse= mean_absolute_error(y_test, y_pred2)\n",
    "round(mse, 3)"
   ]
  },
  {
   "cell_type": "code",
   "execution_count": null,
   "metadata": {},
   "outputs": [],
   "source": []
  },
  {
   "cell_type": "code",
   "execution_count": 22,
   "metadata": {},
   "outputs": [
    {
     "data": {
      "text/plain": [
       "0.8769026636399191"
      ]
     },
     "execution_count": 22,
     "metadata": {},
     "output_type": "execute_result"
    }
   ],
   "source": [
    "# case 3: Using cross validation\n",
    "\n",
    "cross_val_score(reg, X, y, cv=10, scoring = 'r2').mean()"
   ]
  },
  {
   "cell_type": "code",
   "execution_count": 23,
   "metadata": {},
   "outputs": [
    {
     "data": {
      "text/plain": [
       "0.8766823351325043"
      ]
     },
     "execution_count": 23,
     "metadata": {},
     "output_type": "execute_result"
    }
   ],
   "source": [
    "# r-square\n",
    "\n",
    "reg.score(norm_X_train, y_train) "
   ]
  },
  {
   "cell_type": "code",
   "execution_count": null,
   "metadata": {},
   "outputs": [],
   "source": []
  }
 ],
 "metadata": {
  "kernelspec": {
   "display_name": "Python 3",
   "language": "python",
   "name": "python3"
  },
  "language_info": {
   "codemirror_mode": {
    "name": "ipython",
    "version": 3
   },
   "file_extension": ".py",
   "mimetype": "text/x-python",
   "name": "python",
   "nbconvert_exporter": "python",
   "pygments_lexer": "ipython3",
   "version": "3.7.6"
  }
 },
 "nbformat": 4,
 "nbformat_minor": 4
}
